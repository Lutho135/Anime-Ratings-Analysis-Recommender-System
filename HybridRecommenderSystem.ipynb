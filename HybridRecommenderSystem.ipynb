{
  "cells": [
    {
      "cell_type": "code",
      "execution_count": 2,
      "metadata": {
        "id": "9MNzF2bgNKNC"
      },
      "outputs": [],
      "source": [
        "#import required libraries\n",
        "from lightfm import LightFM\n",
        "from lightfm.evaluation import precision_at_k\n",
        "import pandas as pd\n",
        "import numpy as np\n",
        "import matplotlib.pyplot as plt\n",
        "import pandas_profiling\n",
        "from scipy.sparse import csr_matrix\n",
        "from lightfm.evaluation import auc_score\n",
        "from lightfm.data import Dataset\n"
      ]
    },
    {
      "cell_type": "markdown",
      "metadata": {
        "id": "nThnW42yOS20"
      },
      "source": [
        "# Hybrid Anime Recommender System Model"
      ]
    },
    {
      "cell_type": "code",
      "execution_count": 8,
      "metadata": {
        "id": "TaebbVyhOZZ6"
      },
      "outputs": [],
      "source": [
        "anime = pd.read_csv('./train/anime.csv')\n",
        "rating = pd.read_csv('./train/rating.csv')\n",
        "n_user = 5000"
      ]
    },
    {
      "cell_type": "code",
      "execution_count": 9,
      "metadata": {
        "id": "pdlEGpH3OrMu"
      },
      "outputs": [],
      "source": [
        "def sigmoid(x):  \n",
        "    return np.exp(-np.logaddexp(0, -x))"
      ]
    },
    {
      "cell_type": "code",
      "execution_count": null,
      "metadata": {
        "id": "UbGsV8YwOvv2"
      },
      "outputs": [],
      "source": [
        "# Selecting only firest n_user as to avoid crash :'\n",
        "rating_selected = rating.head(np.where(rating['user_id']==n_user)[0][-1]+1)\n",
        "rating_selected['rating'].replace({-1:0},inplace=True)\n"
      ]
    },
    {
      "cell_type": "code",
      "execution_count": 13,
      "metadata": {
        "id": "Cfbm4lJSPhyN"
      },
      "outputs": [],
      "source": [
        "user_anime_interaction = pd.pivot_table(rating_selected, index='user_id', columns='anime_id', values='rating')\n",
        "user_anime_interaction.fillna(0,inplace=True)\n",
        "user_anime_csr = csr_matrix(user_anime_interaction.values)\n"
      ]
    },
    {
      "cell_type": "code",
      "execution_count": 14,
      "metadata": {
        "id": "2231usWTRuxS"
      },
      "outputs": [],
      "source": [
        "n_users, n_items = user_anime_interaction.shape"
      ]
    },
    {
      "cell_type": "code",
      "execution_count": 34,
      "metadata": {
        "id": "daoW1QoCPugo"
      },
      "outputs": [],
      "source": [
        "#Creating Dataset object so to ease mappings \n",
        "# Making user features matrix\n",
        "nanime = anime.set_index('anime_id')\n",
        "nuser = rating_selected.set_index('user_id')\n",
        "total_genres =  sorted(set(map(lambda x:x.strip(),','.join(map(lambda x: str(x), anime['genre'].values)).split(','))))[:-1]\n",
        "\n",
        "  \n",
        "def create_UserFeature(rating_selected,start_id=1,end_id=n_user,new_user=False,new_user_id=n_user+1,new_userDat={}):\n",
        "  user_data = []\n",
        "  for user_id in range(start_id,end_id+1):\n",
        "    filter_user = (nuser.loc[user_id].iloc[np.where(nuser.loc[user_id]['rating'] !=0)])\n",
        "    total_anime_watch = len(filter_user)\n",
        "    \n",
        "    if total_anime_watch ==0:\n",
        "      genres_user = list()\n",
        "    else:\n",
        "      genres_user = nanime.loc[filter_user['anime_id']]['genre']\n",
        "    \n",
        "      if isinstance(genres_user,str):\n",
        "        genres_user= [genres_user]\n",
        "      else:\n",
        "        genres_user = genres_user.values\n",
        "    \n",
        "    # print('\\n-->',user_id,total_anime_watch,genres_user)\n",
        "    \n",
        "    user_gen_dat = {}\n",
        "    all_genres = (','.join(map(lambda x:str(x),genres_user))).split(',')\n",
        "    total_anime_watch = total_anime_watch if total_anime_watch else 1\n",
        "\n",
        "    for unique_gen in total_genres:\n",
        "      \n",
        "      user_gen_dat[unique_gen] = all_genres.count(unique_gen)/total_anime_watch\n",
        "    # user_data.append([user_id,sorted(set(all_genres).intersection(total_genres))])\n",
        "    \n",
        "    user_data.append([user_id,user_gen_dat])\n",
        "  # print(user_data[0],len(user_data[0][1].keys()))\n",
        "  return user_data  \n"
      ]
    },
    {
      "cell_type": "code",
      "execution_count": 39,
      "metadata": {
        "id": "MTsIyypdQPBR"
      },
      "outputs": [],
      "source": [
        "#Init the dataset \n",
        "dataset = Dataset(user_identity_features=False)\n",
        "dataset.fit(np.arange(1,n_user+1),rating_selected.sort_values(by='anime_id')['anime_id'].unique(),user_features=total_genres,item_features=[\"Name\"])\n",
        "user_features = dataset.build_user_features(create_UserFeature(rating_selected),normalize=True)\n"
      ]
    },
    {
      "cell_type": "code",
      "execution_count": null,
      "metadata": {
        "id": "LEbRDKQIPrnF"
      },
      "outputs": [],
      "source": [
        "# Training the model \n",
        "model = LightFM(loss='warp')\n",
        "\n",
        "model = model.fit(user_anime_csr,\n",
        "                  user_features=user_features,#comment this if  you want Pure CF\n",
        "                  epochs=100,\n",
        "                  num_threads=16, verbose=True)"
      ]
    },
    {
      "cell_type": "code",
      "execution_count": 41,
      "metadata": {
        "id": "TPEUrFY_RHFu"
      },
      "outputs": [],
      "source": [
        "# Adding new user and giving top k anime recommendation\n",
        "def recommendME(model,anime,dataset,user_id=None,new_user_feature=None,k=5):\n",
        "  nanime=anime.set_index('anime_id')\n",
        "  if user_id is None:\n",
        "    user_id = n_users +1\n",
        "  if user_id > n_users:\n",
        "    for genre in total_genres:\n",
        "      if genre not in list(new_user_feature.keys()):\n",
        "        new_user_feature[genre] = 0\n",
        "    dataset.fit_partial(users=[user_id],user_features=total_genres)\n",
        "    # My Feature matrix\n",
        "    # new_user_feature = [user_id,{' Adventure': 0.11764705882352941, ' Cars': 0.0, ' Comedy': 0.23529411764705882, ' Dementia': 0.0, ' Demons': 0.058823529411764705, ' Drama': 0.17647058823529413, ' Ecchi': 0.058823529411764705, ' Fantasy': 0.35294117647058826, ' Game': 0.058823529411764705, ' Harem': 0.0, ' Hentai': 0.0, ' Historical': 0.0, ' Horror': 0.058823529411764705, ' Josei': 0.0, ' Kids': 0.0, ' Magic': 0.11764705882352941, ' Martial Arts': 0.0, ' Mecha': 0.058823529411764705, ' Military': 0.11764705882352941, ' Music': 0.0, ' Mystery': 0.058823529411764705, ' Parody': 0.058823529411764705, ' Police': 0.17647058823529413, ' Psychological': 0.17647058823529413, ' Romance': 0.23529411764705882, ' Samurai': 0.0, ' School': 0.29411764705882354, ' Sci-Fi': 0.17647058823529413, ' Seinen': 0.11764705882352941, ' Shoujo': 0.058823529411764705, ' Shoujo Ai': 0.0, ' Shounen': 0.29411764705882354, ' Shounen Ai': 0.0, ' Slice of Life': 0.17647058823529413, ' Space': 0.0, ' Sports': 0.058823529411764705, ' Super Power': 0.17647058823529413, ' Supernatural': 0.47058823529411764, ' Thriller': 0.17647058823529413, ' Vampire': 0.0, ' Yaoi': 0.0, ' Yuri': 0.0, 'Action': 0.47058823529411764, 'Adventure': 0.058823529411764705, 'Cars': 0.0, 'Comedy': 0.11764705882352941, 'Dementia': 0.0, 'Demons': 0.0, 'Drama': 0.23529411764705882, 'Ecchi': 0.0, 'Fantasy': 0.0, 'Game': 0.0, 'Harem': 0.0, 'Hentai': 0.0, 'Historical': 0.0, 'Horror': 0.0, 'Josei': 0.0, 'Kids': 0.0, 'Magic': 0.0, 'Martial Arts': 0.0, 'Mecha': 0.0, 'Military': 0.0, 'Music': 0.0, 'Mystery': 0.058823529411764705, 'Parody': 0.0, 'Police': 0.0, 'Psychological': 0.0, 'Romance': 0.0, 'Samurai': 0.0, 'School': 0.0, 'Sci-Fi': 0.058823529411764705, 'Seinen': 0.0, 'Shoujo': 0.0, 'Shounen': 0.0, 'Slice of Life': 0.0, 'Space': 0.0, 'Sports': 0.0, 'Super Power': 0.0, 'Supernatural': 0.0, 'Thriller': 0.0, 'Vampire': 0.0, 'Yaoi': 0.0} ] \n",
        "    new_user_feature = [user_id,new_user_feature]\n",
        "    new_user_feature = dataset.build_user_features([new_user_feature],normalize=False)\n",
        "  user_id_map = dataset.mapping()[0][user_id] # just user_id -1 \n",
        "  scores = model.predict(user_id_map, np.arange(n_items),user_features=new_user_feature)\n",
        "  rank = np.argsort(-scores)\n",
        "  selected_anime_id =np.array(list(dataset.mapping()[2].keys()))[rank]\n",
        "  top_items = nanime.loc[selected_anime_id]\n",
        "\n",
        "  return top_items['name'][:k].values      \n",
        "\n"
      ]
    },
    {
      "cell_type": "code",
      "execution_count": null,
      "metadata": {
        "colab": {
          "base_uri": "https://localhost:8080/"
        },
        "id": "lDS6jLq0Vron",
        "outputId": "5d6f1fe0-a145-4b62-d6c3-79cb8ce48dd7"
      },
      "outputs": [
        {
          "data": {
            "text/plain": [
              "array(['Freely Tomorrow', 'Tell Your World', 'Downloader', 'EDEN',\n",
              "       'Hime Chen! Otogi Chikku Idol Lilpri'], dtype=object)"
            ]
          },
          "execution_count": 44,
          "metadata": {},
          "output_type": "execute_result"
        }
      ],
      "source": [
        "recommendME(model,anime,dataset,new_user_feature={'Drama':0.5,'Fantasy':0.75,'Harem':0.9,'Hentai':0,'Comedy':0.96})"
      ]
    },
    {
      "cell_type": "code",
      "execution_count": null,
      "metadata": {
        "id": "Z1Ox3Fnuj36y"
      },
      "outputs": [],
      "source": [
        "# Model AUC: 98... and Precision at K 0.60\n",
        "# for me : split data  into train and test and evaluate model on that \n",
        "train_k = precision_at_k(model,user_anime_csr,user_features=user_features)\n",
        "\n",
        "train_auc = auc_score(model, user_anime_csr, num_threads=16,user_features=user_features).mean()\n",
        "\n",
        "print('Collaborative filtering train AUC: {} \\n Precision at k users {} '.format(train_auc , train_k.mean()))"
      ]
    },
    {
      "cell_type": "code",
      "execution_count": 43,
      "metadata": {
        "id": "2uGfz8wgSbF9"
      },
      "outputs": [],
      "source": []
    }
  ],
  "metadata": {
    "colab": {
      "collapsed_sections": [],
      "name": "HybridRecommenderSystem.ipynb",
      "provenance": []
    },
    "kernelspec": {
      "display_name": "Python 3",
      "name": "python3"
    },
    "language_info": {
      "name": "python"
    }
  },
  "nbformat": 4,
  "nbformat_minor": 0
}
